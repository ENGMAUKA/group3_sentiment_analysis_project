{
 "cells": [
  {
   "cell_type": "markdown",
   "id": "01d969fb",
   "metadata": {},
   "source": [
    "# **1. Overwiew**\n",
    "\n",
    "# **2. Business and Data Understanding**\n",
    "## **2.1 Business Problem**\n",
    "\n",
    "\n",
    "\n",
    "## **2.2 Data Understanding**\n",
    "\n",
    "### **2.2.1 Dataset Features**\n",
    "The dataset employed in the study was downloaded from https://data.world/crowdflower/brands-and-product-emotions/file/judge-1377884607_tweet_product_company.csv \n",
    "\n",
    "### **2.2.2 Dataset Features**\n",
    "The following feature about ____ are provided:\n",
    "\n",
    "\n",
    "\n",
    "\n",
    "\n",
    "## **2.3 Methodology**\n",
    "The adopted structure for the project was CRISP-DM that entails undertaking Business understanding; Data Understanding; Data Preparation; Data Cleaning and Exploratory Data Analysis (EDA); Modelling; Conclusion and Recommendations.\n",
    "\n",
    "# **3. Data Cleaning and EDA**\n",
    "## **3.1 Data Cleaning & Preparation**\n",
    "Importing packages"
   ]
  },
  {
   "cell_type": "code",
   "execution_count": 14,
   "id": "f769af84",
   "metadata": {},
   "outputs": [],
   "source": [
    "# Importing standard packages\n",
    "import pandas as pd \n",
    "import numpy as np \n",
    "import seaborn as sns \n",
    "import matplotlib.pyplot as plt \n",
    "%matplotlib inline \n",
    "from textwrap import fill \n",
    "\n",
    "from sklearn.model_selection import train_test_split, cross_val_score, RepeatedStratifiedKFold, GridSearchCV\n",
    "import warnings\n",
    "import math\n",
    "import os\n",
    "warnings.filterwarnings(\"ignore\")\n",
    "\n",
    "# from sklearn.pipeline import Pipeline\n",
    "\n",
    "#classification models\n",
    "from sklearn.dummy import DummyClassifier\n",
    "from sklearn.linear_model import LogisticRegression\n",
    "from sklearn.tree import DecisionTreeClassifier\n",
    "from sklearn.ensemble import RandomForestClassifier\n",
    "from sklearn.naive_bayes import MultinomialNB\n",
    "from sklearn import svm\n",
    "\n",
    "# classification metrics\n",
    "from sklearn.metrics import confusion_matrix, ConfusionMatrixDisplay\n",
    "from sklearn.metrics import accuracy_score, f1_score, precision_score, recall_score\n",
    "from sklearn.metrics import roc_curve, roc_auc_score, auc\n",
    "from sklearn.metrics import classification_report, ConfusionMatrixDisplay\n",
    "\n",
    "# scalers\n",
    "from sklearn.impute import SimpleImputer\n",
    "from sklearn.preprocessing import StandardScaler\n",
    "from sklearn.preprocessing import LabelBinarizer, label_binarize\n",
    "\n",
    "# dummies\n",
    "from sklearn.preprocessing import OneHotEncoder\n",
    "\n",
    "# NLP libraries\n",
    "from nltk.corpus import stopwords, wordnet\n",
    "import string\n",
    "from nltk.stem.wordnet import WordNetLemmatizer\n",
    "from nltk.tokenize import RegexpTokenizer, word_tokenize\n",
    "import re\n",
    "from nltk import FreqDist\n",
    "from nltk import pos_tag\n",
    "from wordcloud import WordCloud \n",
    "\n",
    "# imbalanced-learn\n",
    "from imblearn.pipeline import Pipeline\n",
    "from imblearn.over_sampling import SMOTE"
   ]
  },
  {
   "cell_type": "code",
   "execution_count": 2,
   "id": "992936ac",
   "metadata": {},
   "outputs": [
    {
     "data": {
      "application/vnd.microsoft.datawrangler.viewer.v0+json": {
       "columns": [
        {
         "name": "index",
         "rawType": "int64",
         "type": "integer"
        },
        {
         "name": "tweet_text",
         "rawType": "object",
         "type": "unknown"
        },
        {
         "name": "emotion_in_tweet_is_directed_at",
         "rawType": "object",
         "type": "unknown"
        },
        {
         "name": "is_there_an_emotion_directed_at_a_brand_or_product",
         "rawType": "object",
         "type": "string"
        }
       ],
       "ref": "4fb1ffc9-b8d8-4cfc-bf93-dfa303540201",
       "rows": [
        [
         "0",
         ".@wesley83 I have a 3G iPhone. After 3 hrs tweeting at #RISE_Austin, it was dead!  I need to upgrade. Plugin stations at #SXSW.",
         "iPhone",
         "Negative emotion"
        ],
        [
         "1",
         "@jessedee Know about @fludapp ? Awesome iPad/iPhone app that you'll likely appreciate for its design. Also, they're giving free Ts at #SXSW",
         "iPad or iPhone App",
         "Positive emotion"
        ],
        [
         "2",
         "@swonderlin Can not wait for #iPad 2 also. They should sale them down at #SXSW.",
         "iPad",
         "Positive emotion"
        ],
        [
         "3",
         "@sxsw I hope this year's festival isn't as crashy as this year's iPhone app. #sxsw",
         "iPad or iPhone App",
         "Negative emotion"
        ],
        [
         "4",
         "@sxtxstate great stuff on Fri #SXSW: Marissa Mayer (Google), Tim O'Reilly (tech books/conferences) &amp; Matt Mullenweg (Wordpress)",
         "Google",
         "Positive emotion"
        ],
        [
         "5",
         "@teachntech00 New iPad Apps For #SpeechTherapy And Communication Are Showcased At The #SXSW Conference http://ht.ly/49n4M #iear #edchat #asd",
         null,
         "No emotion toward brand or product"
        ],
        [
         "6",
         null,
         null,
         "No emotion toward brand or product"
        ],
        [
         "7",
         "#SXSW is just starting, #CTIA is around the corner and #googleio is only a hop skip and a jump from there, good time to be an #android fan",
         "Android",
         "Positive emotion"
        ],
        [
         "8",
         "Beautifully smart and simple idea RT @madebymany @thenextweb wrote about our #hollergram iPad app for #sxsw! http://bit.ly/ieaVOB",
         "iPad or iPhone App",
         "Positive emotion"
        ],
        [
         "9",
         "Counting down the days to #sxsw plus strong Canadian dollar means stock up on Apple gear",
         "Apple",
         "Positive emotion"
        ],
        [
         "10",
         "Excited to meet the @samsungmobileus at #sxsw so I can show them my Sprint Galaxy S still running Android 2.1.   #fail",
         "Android",
         "Positive emotion"
        ],
        [
         "11",
         "Find &amp; Start Impromptu Parties at #SXSW With @HurricaneParty http://bit.ly/gVLrIn I can't wait til the Android app comes out.",
         "Android App",
         "Positive emotion"
        ],
        [
         "12",
         "Foursquare ups the game, just in time for #SXSW http://j.mp/grN7pK) - Still prefer @Gowalla by far, best looking Android app to date.",
         "Android App",
         "Positive emotion"
        ],
        [
         "13",
         "Gotta love this #SXSW Google Calendar featuring top parties/ show cases to check out.  RT @hamsandwich via @ischafer =&gt;http://bit.ly/aXZwxB",
         "Other Google product or service",
         "Positive emotion"
        ],
        [
         "14",
         "Great #sxsw ipad app from @madebymany: http://tinyurl.com/4nqv92l",
         "iPad or iPhone App",
         "Positive emotion"
        ],
        [
         "15",
         "haha, awesomely rad iPad app by @madebymany http://bit.ly/hTdFim #hollergram #sxsw",
         "iPad or iPhone App",
         "Positive emotion"
        ],
        [
         "16",
         "Holler Gram for iPad on the iTunes App Store -  http://t.co/kfN3f5Q (via @marc_is_ken) #sxsw",
         null,
         "No emotion toward brand or product"
        ],
        [
         "17",
         "I just noticed DST is coming this weekend. How many iPhone users will be an hour late at SXSW come Sunday morning? #SXSW #iPhone",
         "iPhone",
         "Negative emotion"
        ],
        [
         "18",
         "Just added my #SXSW flights to @planely. Matching people on planes/airports. Also downloaded the @KLM iPhone app, nicely done.",
         "iPad or iPhone App",
         "Positive emotion"
        ],
        [
         "19",
         "Must have #SXSW app! RT @malbonster: Lovely review from Forbes for our SXSW iPad app Holler Gram - http://t.co/g4GZypV",
         "iPad or iPhone App",
         "Positive emotion"
        ],
        [
         "20",
         "Need to buy an iPad2 while I'm in Austin at #sxsw. Not sure if I'll need to Q up at an Austin Apple store?",
         "iPad",
         "Positive emotion"
        ],
        [
         "21",
         "Oh. My. God. The #SXSW app for iPad is pure, unadulterated awesome. It's easier to browse events on iPad than on the website!!!",
         "iPad or iPhone App",
         "Positive emotion"
        ],
        [
         "22",
         "Okay, this is really it: yay new @Foursquare for #Android app!!!!11 kthxbai. #sxsw",
         "Android App",
         "Positive emotion"
        ],
        [
         "23",
         "Photo: Just installed the #SXSW iPhone app, which is really nice! http://tumblr.com/x6t1pi6av7",
         "iPad or iPhone App",
         "Positive emotion"
        ],
        [
         "24",
         "Really enjoying the changes in Gowalla 3.0 for Android! Looking forward to seeing what else they &amp; Foursquare have up their sleeves at #SXSW",
         "Android App",
         "Positive emotion"
        ],
        [
         "25",
         "RT @LaurieShook: I'm looking forward to the #SMCDallas pre #SXSW party Wed., and hoping I'll win an #iPad resulting from my shameless promotion.  #ChevySMC",
         "iPad",
         "Positive emotion"
        ],
        [
         "26",
         "RT haha, awesomely rad iPad app by @madebymany http://bit.ly/hTdFim #hollergram #sxsw (via @michaelpiliero)",
         "iPad or iPhone App",
         "Positive emotion"
        ],
        [
         "27",
         "someone started an #austin @PartnerHub group in google groups, pre-#sxsw. great idea",
         "Other Google product or service",
         "Positive emotion"
        ],
        [
         "28",
         "The new #4sq3 looks like it is going to rock. Update for iPhone and Android should push tonight http://bit.ly/etsbZk #SXSW #KeepAustinWeird",
         "iPad or iPhone App",
         "Positive emotion"
        ],
        [
         "29",
         "They were right, the @gowalla 3 app on #android is sweeeeet! Nice job by the team there. #sxsw",
         "Android App",
         "Positive emotion"
        ],
        [
         "30",
         "Very smart from @madebymany #hollergram iPad app for #sxsw! http://t.co/A3xvWc6 (may leave my vuvuzela at home now)",
         "iPad or iPhone App",
         "Positive emotion"
        ],
        [
         "31",
         "You must have this app for your iPad if you are going to #SXSW http://itunes.apple.com/us/app/holler-gram/id420666439?mt=8 #hollergram",
         "iPad or iPhone App",
         "Positive emotion"
        ],
        [
         "32",
         "Attn: All  #SXSW frineds, @mention Register for #GDGTLive  and see Cobra iRadar for Android. {link}",
         null,
         "No emotion toward brand or product"
        ],
        [
         "33",
         "Anyone at  #sxsw want to sell their old iPad?",
         null,
         "No emotion toward brand or product"
        ],
        [
         "34",
         "Anyone at  #SXSW who bought the new iPad want to sell their older iPad to me?",
         null,
         "No emotion toward brand or product"
        ],
        [
         "35",
         "At #sxsw.  Oooh. RT @mention Google to Launch Major New Social Network Called Circles, Possibly Today {link}",
         null,
         "No emotion toward brand or product"
        ],
        [
         "36",
         "The best!  RT @mention Ha! First in line for #ipad2 at #sxsw &quot;pop-up&quot; Apple store was an event planner #eventprofs #pcma #engage365",
         "iPad",
         "Positive emotion"
        ],
        [
         "37",
         "SPIN Play - a new concept in music discovery for your iPad from @mention &amp; spin.com {link} #iTunes #sxsw @mention",
         null,
         "No emotion toward brand or product"
        ],
        [
         "38",
         "@mention  - False Alarm: Google Circles Not Coming NowÛÒand Probably Not Ever? - {link} #Google #Circles #Social #SXSW",
         "Google",
         "Negative emotion"
        ],
        [
         "39",
         "VatorNews - Google And Apple Force Print Media to Evolve? {link} #sxsw",
         null,
         "No emotion toward brand or product"
        ],
        [
         "40",
         "@mention  - Great weather to greet you for #sxsw! Still need a sweater at night..Apple putting up &quot;flash store&quot; downtown to sell iPad2",
         "Apple",
         "Positive emotion"
        ],
        [
         "41",
         "HootSuite - HootSuite Mobile for #SXSW ~ Updates for iPhone, BlackBerry &amp; Android: Whether youÛªre getting friend... {link}",
         null,
         "No emotion toward brand or product"
        ],
        [
         "42",
         "Hey #SXSW - How long do you think it takes us to make an iPhone case? answer @mention using #zazzlesxsw and weÛªll make you one!",
         null,
         "No emotion toward brand or product"
        ],
        [
         "43",
         "Mashable! - The iPad 2 Takes Over SXSW [VIDEO] #ipad #sxsw #gadgets {link}",
         null,
         "No emotion toward brand or product"
        ],
        [
         "44",
         "For I-Pad ?RT @mention New #UberSocial for #iPhone now in the App Store includes UberGuide to #SXSW sponsored by ... {link}",
         null,
         "No emotion toward brand or product"
        ],
        [
         "45",
         "#IPad2 's Û÷#SmartCoverÛª Opens to Instant Access - I should have waited to get one! - {link} #apple #SXSW",
         "iPad or iPhone App",
         "Positive emotion"
        ],
        [
         "46",
         "Hand-Held Û÷HoboÛª: Drafthouse launches Û÷Hobo With a ShotgunÛª iPhone app #SXSW {link}",
         null,
         "Positive emotion"
        ],
        [
         "47",
         "HOORAY RT ÛÏ@mention Apple Is Opening A Pop-Up Store In Austin For #SXSW | @mention {link}",
         "Apple",
         "Positive emotion"
        ],
        [
         "48",
         "Orly....? ÛÏ@mention Google set to launch new social network #Circles today at #sxswÛ",
         null,
         "No emotion toward brand or product"
        ],
        [
         "49",
         "wooooo!!! ÛÏ@mention Apple store downtown Austin open til Midnight. #sxswÛ",
         "Apple",
         "Positive emotion"
        ]
       ],
       "shape": {
        "columns": 3,
        "rows": 9093
       }
      },
      "text/html": [
       "<div>\n",
       "<style scoped>\n",
       "    .dataframe tbody tr th:only-of-type {\n",
       "        vertical-align: middle;\n",
       "    }\n",
       "\n",
       "    .dataframe tbody tr th {\n",
       "        vertical-align: top;\n",
       "    }\n",
       "\n",
       "    .dataframe thead th {\n",
       "        text-align: right;\n",
       "    }\n",
       "</style>\n",
       "<table border=\"1\" class=\"dataframe\">\n",
       "  <thead>\n",
       "    <tr style=\"text-align: right;\">\n",
       "      <th></th>\n",
       "      <th>tweet_text</th>\n",
       "      <th>emotion_in_tweet_is_directed_at</th>\n",
       "      <th>is_there_an_emotion_directed_at_a_brand_or_product</th>\n",
       "    </tr>\n",
       "  </thead>\n",
       "  <tbody>\n",
       "    <tr>\n",
       "      <th>0</th>\n",
       "      <td>.@wesley83 I have a 3G iPhone. After 3 hrs twe...</td>\n",
       "      <td>iPhone</td>\n",
       "      <td>Negative emotion</td>\n",
       "    </tr>\n",
       "    <tr>\n",
       "      <th>1</th>\n",
       "      <td>@jessedee Know about @fludapp ? Awesome iPad/i...</td>\n",
       "      <td>iPad or iPhone App</td>\n",
       "      <td>Positive emotion</td>\n",
       "    </tr>\n",
       "    <tr>\n",
       "      <th>2</th>\n",
       "      <td>@swonderlin Can not wait for #iPad 2 also. The...</td>\n",
       "      <td>iPad</td>\n",
       "      <td>Positive emotion</td>\n",
       "    </tr>\n",
       "    <tr>\n",
       "      <th>3</th>\n",
       "      <td>@sxsw I hope this year's festival isn't as cra...</td>\n",
       "      <td>iPad or iPhone App</td>\n",
       "      <td>Negative emotion</td>\n",
       "    </tr>\n",
       "    <tr>\n",
       "      <th>4</th>\n",
       "      <td>@sxtxstate great stuff on Fri #SXSW: Marissa M...</td>\n",
       "      <td>Google</td>\n",
       "      <td>Positive emotion</td>\n",
       "    </tr>\n",
       "    <tr>\n",
       "      <th>...</th>\n",
       "      <td>...</td>\n",
       "      <td>...</td>\n",
       "      <td>...</td>\n",
       "    </tr>\n",
       "    <tr>\n",
       "      <th>9088</th>\n",
       "      <td>Ipad everywhere. #SXSW {link}</td>\n",
       "      <td>iPad</td>\n",
       "      <td>Positive emotion</td>\n",
       "    </tr>\n",
       "    <tr>\n",
       "      <th>9089</th>\n",
       "      <td>Wave, buzz... RT @mention We interrupt your re...</td>\n",
       "      <td>NaN</td>\n",
       "      <td>No emotion toward brand or product</td>\n",
       "    </tr>\n",
       "    <tr>\n",
       "      <th>9090</th>\n",
       "      <td>Google's Zeiger, a physician never reported po...</td>\n",
       "      <td>NaN</td>\n",
       "      <td>No emotion toward brand or product</td>\n",
       "    </tr>\n",
       "    <tr>\n",
       "      <th>9091</th>\n",
       "      <td>Some Verizon iPhone customers complained their...</td>\n",
       "      <td>NaN</td>\n",
       "      <td>No emotion toward brand or product</td>\n",
       "    </tr>\n",
       "    <tr>\n",
       "      <th>9092</th>\n",
       "      <td>Ï¡Ïàü_ÊÎÒ£Áââ_£â_ÛâRT @...</td>\n",
       "      <td>NaN</td>\n",
       "      <td>No emotion toward brand or product</td>\n",
       "    </tr>\n",
       "  </tbody>\n",
       "</table>\n",
       "<p>9093 rows × 3 columns</p>\n",
       "</div>"
      ],
      "text/plain": [
       "                                             tweet_text  \\\n",
       "0     .@wesley83 I have a 3G iPhone. After 3 hrs twe...   \n",
       "1     @jessedee Know about @fludapp ? Awesome iPad/i...   \n",
       "2     @swonderlin Can not wait for #iPad 2 also. The...   \n",
       "3     @sxsw I hope this year's festival isn't as cra...   \n",
       "4     @sxtxstate great stuff on Fri #SXSW: Marissa M...   \n",
       "...                                                 ...   \n",
       "9088                      Ipad everywhere. #SXSW {link}   \n",
       "9089  Wave, buzz... RT @mention We interrupt your re...   \n",
       "9090  Google's Zeiger, a physician never reported po...   \n",
       "9091  Some Verizon iPhone customers complained their...   \n",
       "9092  Ï¡Ïàü_ÊÎÒ£Áââ_£â_ÛâRT @...   \n",
       "\n",
       "     emotion_in_tweet_is_directed_at  \\\n",
       "0                             iPhone   \n",
       "1                 iPad or iPhone App   \n",
       "2                               iPad   \n",
       "3                 iPad or iPhone App   \n",
       "4                             Google   \n",
       "...                              ...   \n",
       "9088                            iPad   \n",
       "9089                             NaN   \n",
       "9090                             NaN   \n",
       "9091                             NaN   \n",
       "9092                             NaN   \n",
       "\n",
       "     is_there_an_emotion_directed_at_a_brand_or_product  \n",
       "0                                      Negative emotion  \n",
       "1                                      Positive emotion  \n",
       "2                                      Positive emotion  \n",
       "3                                      Negative emotion  \n",
       "4                                      Positive emotion  \n",
       "...                                                 ...  \n",
       "9088                                   Positive emotion  \n",
       "9089                 No emotion toward brand or product  \n",
       "9090                 No emotion toward brand or product  \n",
       "9091                 No emotion toward brand or product  \n",
       "9092                 No emotion toward brand or product  \n",
       "\n",
       "[9093 rows x 3 columns]"
      ]
     },
     "execution_count": 2,
     "metadata": {},
     "output_type": "execute_result"
    }
   ],
   "source": [
    "# loading the dataset\n",
    "sentiment_data = pd.read_csv(\"../data/judge-1377884607_tweet_product_company.csv\", encoding=\"ISO-8859-1\")\n",
    "sentiment_data\n",
    "#C:\\Users\\mauka\\OneDrive\\Desktop\\PHASE4\\p4_project\\data\\judge-1377884607_tweet_product_company.csv"
   ]
  },
  {
   "cell_type": "code",
   "execution_count": 3,
   "id": "097ccc28",
   "metadata": {},
   "outputs": [
    {
     "name": "stdout",
     "output_type": "stream",
     "text": [
      "<class 'pandas.core.frame.DataFrame'>\n",
      "RangeIndex: 9093 entries, 0 to 9092\n",
      "Data columns (total 3 columns):\n",
      " #   Column                                              Non-Null Count  Dtype \n",
      "---  ------                                              --------------  ----- \n",
      " 0   tweet_text                                          9092 non-null   object\n",
      " 1   emotion_in_tweet_is_directed_at                     3291 non-null   object\n",
      " 2   is_there_an_emotion_directed_at_a_brand_or_product  9093 non-null   object\n",
      "dtypes: object(3)\n",
      "memory usage: 213.2+ KB\n"
     ]
    }
   ],
   "source": [
    "# checking the data types\n",
    "sentiment_data.info()"
   ]
  },
  {
   "cell_type": "code",
   "execution_count": 4,
   "id": "c9dbf7ff",
   "metadata": {},
   "outputs": [
    {
     "data": {
      "application/vnd.microsoft.datawrangler.viewer.v0+json": {
       "columns": [
        {
         "name": "index",
         "rawType": "int64",
         "type": "integer"
        },
        {
         "name": "text",
         "rawType": "object",
         "type": "unknown"
        },
        {
         "name": "product",
         "rawType": "object",
         "type": "unknown"
        },
        {
         "name": "sentiment",
         "rawType": "object",
         "type": "string"
        }
       ],
       "ref": "bb91d3cd-d6e4-48d0-8b05-823bbe821ce3",
       "rows": [
        [
         "0",
         ".@wesley83 I have a 3G iPhone. After 3 hrs tweeting at #RISE_Austin, it was dead!  I need to upgrade. Plugin stations at #SXSW.",
         "iPhone",
         "Negative emotion"
        ],
        [
         "1",
         "@jessedee Know about @fludapp ? Awesome iPad/iPhone app that you'll likely appreciate for its design. Also, they're giving free Ts at #SXSW",
         "iPad or iPhone App",
         "Positive emotion"
        ],
        [
         "2",
         "@swonderlin Can not wait for #iPad 2 also. They should sale them down at #SXSW.",
         "iPad",
         "Positive emotion"
        ],
        [
         "3",
         "@sxsw I hope this year's festival isn't as crashy as this year's iPhone app. #sxsw",
         "iPad or iPhone App",
         "Negative emotion"
        ],
        [
         "4",
         "@sxtxstate great stuff on Fri #SXSW: Marissa Mayer (Google), Tim O'Reilly (tech books/conferences) &amp; Matt Mullenweg (Wordpress)",
         "Google",
         "Positive emotion"
        ],
        [
         "5",
         "@teachntech00 New iPad Apps For #SpeechTherapy And Communication Are Showcased At The #SXSW Conference http://ht.ly/49n4M #iear #edchat #asd",
         null,
         "No emotion toward brand or product"
        ],
        [
         "6",
         null,
         null,
         "No emotion toward brand or product"
        ],
        [
         "7",
         "#SXSW is just starting, #CTIA is around the corner and #googleio is only a hop skip and a jump from there, good time to be an #android fan",
         "Android",
         "Positive emotion"
        ],
        [
         "8",
         "Beautifully smart and simple idea RT @madebymany @thenextweb wrote about our #hollergram iPad app for #sxsw! http://bit.ly/ieaVOB",
         "iPad or iPhone App",
         "Positive emotion"
        ],
        [
         "9",
         "Counting down the days to #sxsw plus strong Canadian dollar means stock up on Apple gear",
         "Apple",
         "Positive emotion"
        ],
        [
         "10",
         "Excited to meet the @samsungmobileus at #sxsw so I can show them my Sprint Galaxy S still running Android 2.1.   #fail",
         "Android",
         "Positive emotion"
        ],
        [
         "11",
         "Find &amp; Start Impromptu Parties at #SXSW With @HurricaneParty http://bit.ly/gVLrIn I can't wait til the Android app comes out.",
         "Android App",
         "Positive emotion"
        ],
        [
         "12",
         "Foursquare ups the game, just in time for #SXSW http://j.mp/grN7pK) - Still prefer @Gowalla by far, best looking Android app to date.",
         "Android App",
         "Positive emotion"
        ],
        [
         "13",
         "Gotta love this #SXSW Google Calendar featuring top parties/ show cases to check out.  RT @hamsandwich via @ischafer =&gt;http://bit.ly/aXZwxB",
         "Other Google product or service",
         "Positive emotion"
        ],
        [
         "14",
         "Great #sxsw ipad app from @madebymany: http://tinyurl.com/4nqv92l",
         "iPad or iPhone App",
         "Positive emotion"
        ],
        [
         "15",
         "haha, awesomely rad iPad app by @madebymany http://bit.ly/hTdFim #hollergram #sxsw",
         "iPad or iPhone App",
         "Positive emotion"
        ],
        [
         "16",
         "Holler Gram for iPad on the iTunes App Store -  http://t.co/kfN3f5Q (via @marc_is_ken) #sxsw",
         null,
         "No emotion toward brand or product"
        ],
        [
         "17",
         "I just noticed DST is coming this weekend. How many iPhone users will be an hour late at SXSW come Sunday morning? #SXSW #iPhone",
         "iPhone",
         "Negative emotion"
        ],
        [
         "18",
         "Just added my #SXSW flights to @planely. Matching people on planes/airports. Also downloaded the @KLM iPhone app, nicely done.",
         "iPad or iPhone App",
         "Positive emotion"
        ],
        [
         "19",
         "Must have #SXSW app! RT @malbonster: Lovely review from Forbes for our SXSW iPad app Holler Gram - http://t.co/g4GZypV",
         "iPad or iPhone App",
         "Positive emotion"
        ],
        [
         "20",
         "Need to buy an iPad2 while I'm in Austin at #sxsw. Not sure if I'll need to Q up at an Austin Apple store?",
         "iPad",
         "Positive emotion"
        ],
        [
         "21",
         "Oh. My. God. The #SXSW app for iPad is pure, unadulterated awesome. It's easier to browse events on iPad than on the website!!!",
         "iPad or iPhone App",
         "Positive emotion"
        ],
        [
         "22",
         "Okay, this is really it: yay new @Foursquare for #Android app!!!!11 kthxbai. #sxsw",
         "Android App",
         "Positive emotion"
        ],
        [
         "23",
         "Photo: Just installed the #SXSW iPhone app, which is really nice! http://tumblr.com/x6t1pi6av7",
         "iPad or iPhone App",
         "Positive emotion"
        ],
        [
         "24",
         "Really enjoying the changes in Gowalla 3.0 for Android! Looking forward to seeing what else they &amp; Foursquare have up their sleeves at #SXSW",
         "Android App",
         "Positive emotion"
        ],
        [
         "25",
         "RT @LaurieShook: I'm looking forward to the #SMCDallas pre #SXSW party Wed., and hoping I'll win an #iPad resulting from my shameless promotion.  #ChevySMC",
         "iPad",
         "Positive emotion"
        ],
        [
         "26",
         "RT haha, awesomely rad iPad app by @madebymany http://bit.ly/hTdFim #hollergram #sxsw (via @michaelpiliero)",
         "iPad or iPhone App",
         "Positive emotion"
        ],
        [
         "27",
         "someone started an #austin @PartnerHub group in google groups, pre-#sxsw. great idea",
         "Other Google product or service",
         "Positive emotion"
        ],
        [
         "28",
         "The new #4sq3 looks like it is going to rock. Update for iPhone and Android should push tonight http://bit.ly/etsbZk #SXSW #KeepAustinWeird",
         "iPad or iPhone App",
         "Positive emotion"
        ],
        [
         "29",
         "They were right, the @gowalla 3 app on #android is sweeeeet! Nice job by the team there. #sxsw",
         "Android App",
         "Positive emotion"
        ],
        [
         "30",
         "Very smart from @madebymany #hollergram iPad app for #sxsw! http://t.co/A3xvWc6 (may leave my vuvuzela at home now)",
         "iPad or iPhone App",
         "Positive emotion"
        ],
        [
         "31",
         "You must have this app for your iPad if you are going to #SXSW http://itunes.apple.com/us/app/holler-gram/id420666439?mt=8 #hollergram",
         "iPad or iPhone App",
         "Positive emotion"
        ],
        [
         "32",
         "Attn: All  #SXSW frineds, @mention Register for #GDGTLive  and see Cobra iRadar for Android. {link}",
         null,
         "No emotion toward brand or product"
        ],
        [
         "33",
         "Anyone at  #sxsw want to sell their old iPad?",
         null,
         "No emotion toward brand or product"
        ],
        [
         "34",
         "Anyone at  #SXSW who bought the new iPad want to sell their older iPad to me?",
         null,
         "No emotion toward brand or product"
        ],
        [
         "35",
         "At #sxsw.  Oooh. RT @mention Google to Launch Major New Social Network Called Circles, Possibly Today {link}",
         null,
         "No emotion toward brand or product"
        ],
        [
         "36",
         "The best!  RT @mention Ha! First in line for #ipad2 at #sxsw &quot;pop-up&quot; Apple store was an event planner #eventprofs #pcma #engage365",
         "iPad",
         "Positive emotion"
        ],
        [
         "37",
         "SPIN Play - a new concept in music discovery for your iPad from @mention &amp; spin.com {link} #iTunes #sxsw @mention",
         null,
         "No emotion toward brand or product"
        ],
        [
         "38",
         "@mention  - False Alarm: Google Circles Not Coming NowÛÒand Probably Not Ever? - {link} #Google #Circles #Social #SXSW",
         "Google",
         "Negative emotion"
        ],
        [
         "39",
         "VatorNews - Google And Apple Force Print Media to Evolve? {link} #sxsw",
         null,
         "No emotion toward brand or product"
        ],
        [
         "40",
         "@mention  - Great weather to greet you for #sxsw! Still need a sweater at night..Apple putting up &quot;flash store&quot; downtown to sell iPad2",
         "Apple",
         "Positive emotion"
        ],
        [
         "41",
         "HootSuite - HootSuite Mobile for #SXSW ~ Updates for iPhone, BlackBerry &amp; Android: Whether youÛªre getting friend... {link}",
         null,
         "No emotion toward brand or product"
        ],
        [
         "42",
         "Hey #SXSW - How long do you think it takes us to make an iPhone case? answer @mention using #zazzlesxsw and weÛªll make you one!",
         null,
         "No emotion toward brand or product"
        ],
        [
         "43",
         "Mashable! - The iPad 2 Takes Over SXSW [VIDEO] #ipad #sxsw #gadgets {link}",
         null,
         "No emotion toward brand or product"
        ],
        [
         "44",
         "For I-Pad ?RT @mention New #UberSocial for #iPhone now in the App Store includes UberGuide to #SXSW sponsored by ... {link}",
         null,
         "No emotion toward brand or product"
        ],
        [
         "45",
         "#IPad2 's Û÷#SmartCoverÛª Opens to Instant Access - I should have waited to get one! - {link} #apple #SXSW",
         "iPad or iPhone App",
         "Positive emotion"
        ],
        [
         "46",
         "Hand-Held Û÷HoboÛª: Drafthouse launches Û÷Hobo With a ShotgunÛª iPhone app #SXSW {link}",
         null,
         "Positive emotion"
        ],
        [
         "47",
         "HOORAY RT ÛÏ@mention Apple Is Opening A Pop-Up Store In Austin For #SXSW | @mention {link}",
         "Apple",
         "Positive emotion"
        ],
        [
         "48",
         "Orly....? ÛÏ@mention Google set to launch new social network #Circles today at #sxswÛ",
         null,
         "No emotion toward brand or product"
        ],
        [
         "49",
         "wooooo!!! ÛÏ@mention Apple store downtown Austin open til Midnight. #sxswÛ",
         "Apple",
         "Positive emotion"
        ]
       ],
       "shape": {
        "columns": 3,
        "rows": 9093
       }
      },
      "text/html": [
       "<div>\n",
       "<style scoped>\n",
       "    .dataframe tbody tr th:only-of-type {\n",
       "        vertical-align: middle;\n",
       "    }\n",
       "\n",
       "    .dataframe tbody tr th {\n",
       "        vertical-align: top;\n",
       "    }\n",
       "\n",
       "    .dataframe thead th {\n",
       "        text-align: right;\n",
       "    }\n",
       "</style>\n",
       "<table border=\"1\" class=\"dataframe\">\n",
       "  <thead>\n",
       "    <tr style=\"text-align: right;\">\n",
       "      <th></th>\n",
       "      <th>text</th>\n",
       "      <th>product</th>\n",
       "      <th>sentiment</th>\n",
       "    </tr>\n",
       "  </thead>\n",
       "  <tbody>\n",
       "    <tr>\n",
       "      <th>0</th>\n",
       "      <td>.@wesley83 I have a 3G iPhone. After 3 hrs twe...</td>\n",
       "      <td>iPhone</td>\n",
       "      <td>Negative emotion</td>\n",
       "    </tr>\n",
       "    <tr>\n",
       "      <th>1</th>\n",
       "      <td>@jessedee Know about @fludapp ? Awesome iPad/i...</td>\n",
       "      <td>iPad or iPhone App</td>\n",
       "      <td>Positive emotion</td>\n",
       "    </tr>\n",
       "    <tr>\n",
       "      <th>2</th>\n",
       "      <td>@swonderlin Can not wait for #iPad 2 also. The...</td>\n",
       "      <td>iPad</td>\n",
       "      <td>Positive emotion</td>\n",
       "    </tr>\n",
       "    <tr>\n",
       "      <th>3</th>\n",
       "      <td>@sxsw I hope this year's festival isn't as cra...</td>\n",
       "      <td>iPad or iPhone App</td>\n",
       "      <td>Negative emotion</td>\n",
       "    </tr>\n",
       "    <tr>\n",
       "      <th>4</th>\n",
       "      <td>@sxtxstate great stuff on Fri #SXSW: Marissa M...</td>\n",
       "      <td>Google</td>\n",
       "      <td>Positive emotion</td>\n",
       "    </tr>\n",
       "    <tr>\n",
       "      <th>...</th>\n",
       "      <td>...</td>\n",
       "      <td>...</td>\n",
       "      <td>...</td>\n",
       "    </tr>\n",
       "    <tr>\n",
       "      <th>9088</th>\n",
       "      <td>Ipad everywhere. #SXSW {link}</td>\n",
       "      <td>iPad</td>\n",
       "      <td>Positive emotion</td>\n",
       "    </tr>\n",
       "    <tr>\n",
       "      <th>9089</th>\n",
       "      <td>Wave, buzz... RT @mention We interrupt your re...</td>\n",
       "      <td>NaN</td>\n",
       "      <td>No emotion toward brand or product</td>\n",
       "    </tr>\n",
       "    <tr>\n",
       "      <th>9090</th>\n",
       "      <td>Google's Zeiger, a physician never reported po...</td>\n",
       "      <td>NaN</td>\n",
       "      <td>No emotion toward brand or product</td>\n",
       "    </tr>\n",
       "    <tr>\n",
       "      <th>9091</th>\n",
       "      <td>Some Verizon iPhone customers complained their...</td>\n",
       "      <td>NaN</td>\n",
       "      <td>No emotion toward brand or product</td>\n",
       "    </tr>\n",
       "    <tr>\n",
       "      <th>9092</th>\n",
       "      <td>Ï¡Ïàü_ÊÎÒ£Áââ_£â_ÛâRT @...</td>\n",
       "      <td>NaN</td>\n",
       "      <td>No emotion toward brand or product</td>\n",
       "    </tr>\n",
       "  </tbody>\n",
       "</table>\n",
       "<p>9093 rows × 3 columns</p>\n",
       "</div>"
      ],
      "text/plain": [
       "                                                   text             product  \\\n",
       "0     .@wesley83 I have a 3G iPhone. After 3 hrs twe...              iPhone   \n",
       "1     @jessedee Know about @fludapp ? Awesome iPad/i...  iPad or iPhone App   \n",
       "2     @swonderlin Can not wait for #iPad 2 also. The...                iPad   \n",
       "3     @sxsw I hope this year's festival isn't as cra...  iPad or iPhone App   \n",
       "4     @sxtxstate great stuff on Fri #SXSW: Marissa M...              Google   \n",
       "...                                                 ...                 ...   \n",
       "9088                      Ipad everywhere. #SXSW {link}                iPad   \n",
       "9089  Wave, buzz... RT @mention We interrupt your re...                 NaN   \n",
       "9090  Google's Zeiger, a physician never reported po...                 NaN   \n",
       "9091  Some Verizon iPhone customers complained their...                 NaN   \n",
       "9092  Ï¡Ïàü_ÊÎÒ£Áââ_£â_ÛâRT @...                 NaN   \n",
       "\n",
       "                               sentiment  \n",
       "0                       Negative emotion  \n",
       "1                       Positive emotion  \n",
       "2                       Positive emotion  \n",
       "3                       Negative emotion  \n",
       "4                       Positive emotion  \n",
       "...                                  ...  \n",
       "9088                    Positive emotion  \n",
       "9089  No emotion toward brand or product  \n",
       "9090  No emotion toward brand or product  \n",
       "9091  No emotion toward brand or product  \n",
       "9092  No emotion toward brand or product  \n",
       "\n",
       "[9093 rows x 3 columns]"
      ]
     },
     "execution_count": 4,
     "metadata": {},
     "output_type": "execute_result"
    }
   ],
   "source": [
    "# rename the column names for easier analysis\n",
    "sentiment_data.rename(columns=\n",
    "                      {\n",
    "    \"tweet_text\":\"text\",\n",
    "    \"emotion_in_tweet_is_directed_at\":\"product\",\n",
    "    \"is_there_an_emotion_directed_at_a_brand_or_product\":\"sentiment\"\n",
    "},\n",
    "                      inplace=True)\n",
    "sentiment_data"
   ]
  },
  {
   "cell_type": "code",
   "execution_count": 5,
   "id": "05da9bfa",
   "metadata": {},
   "outputs": [
    {
     "data": {
      "application/vnd.microsoft.datawrangler.viewer.v0+json": {
       "columns": [
        {
         "name": "index",
         "rawType": "int64",
         "type": "integer"
        },
        {
         "name": "text",
         "rawType": "object",
         "type": "string"
        },
        {
         "name": "product",
         "rawType": "object",
         "type": "string"
        },
        {
         "name": "sentiment",
         "rawType": "object",
         "type": "string"
        }
       ],
       "ref": "1ed37c65-446e-4e5e-a058-c2caae58956e",
       "rows": [
        [
         "0",
         ".@wesley83 I have a 3G iPhone. After 3 hrs tweeting at #RISE_Austin, it was dead!  I need to upgrade. Plugin stations at #SXSW.",
         "iPhone",
         "1"
        ],
        [
         "1",
         "@jessedee Know about @fludapp ? Awesome iPad/iPhone app that you'll likely appreciate for its design. Also, they're giving free Ts at #SXSW",
         "iPad or iPhone App",
         "3"
        ],
        [
         "2",
         "@swonderlin Can not wait for #iPad 2 also. They should sale them down at #SXSW.",
         "iPad",
         "3"
        ],
        [
         "3",
         "@sxsw I hope this year's festival isn't as crashy as this year's iPhone app. #sxsw",
         "iPad or iPhone App",
         "1"
        ],
        [
         "4",
         "@sxtxstate great stuff on Fri #SXSW: Marissa Mayer (Google), Tim O'Reilly (tech books/conferences) &amp; Matt Mullenweg (Wordpress)",
         "Google",
         "3"
        ]
       ],
       "shape": {
        "columns": 3,
        "rows": 5
       }
      },
      "text/html": [
       "<div>\n",
       "<style scoped>\n",
       "    .dataframe tbody tr th:only-of-type {\n",
       "        vertical-align: middle;\n",
       "    }\n",
       "\n",
       "    .dataframe tbody tr th {\n",
       "        vertical-align: top;\n",
       "    }\n",
       "\n",
       "    .dataframe thead th {\n",
       "        text-align: right;\n",
       "    }\n",
       "</style>\n",
       "<table border=\"1\" class=\"dataframe\">\n",
       "  <thead>\n",
       "    <tr style=\"text-align: right;\">\n",
       "      <th></th>\n",
       "      <th>text</th>\n",
       "      <th>product</th>\n",
       "      <th>sentiment</th>\n",
       "    </tr>\n",
       "  </thead>\n",
       "  <tbody>\n",
       "    <tr>\n",
       "      <th>0</th>\n",
       "      <td>.@wesley83 I have a 3G iPhone. After 3 hrs twe...</td>\n",
       "      <td>iPhone</td>\n",
       "      <td>1</td>\n",
       "    </tr>\n",
       "    <tr>\n",
       "      <th>1</th>\n",
       "      <td>@jessedee Know about @fludapp ? Awesome iPad/i...</td>\n",
       "      <td>iPad or iPhone App</td>\n",
       "      <td>3</td>\n",
       "    </tr>\n",
       "    <tr>\n",
       "      <th>2</th>\n",
       "      <td>@swonderlin Can not wait for #iPad 2 also. The...</td>\n",
       "      <td>iPad</td>\n",
       "      <td>3</td>\n",
       "    </tr>\n",
       "    <tr>\n",
       "      <th>3</th>\n",
       "      <td>@sxsw I hope this year's festival isn't as cra...</td>\n",
       "      <td>iPad or iPhone App</td>\n",
       "      <td>1</td>\n",
       "    </tr>\n",
       "    <tr>\n",
       "      <th>4</th>\n",
       "      <td>@sxtxstate great stuff on Fri #SXSW: Marissa M...</td>\n",
       "      <td>Google</td>\n",
       "      <td>3</td>\n",
       "    </tr>\n",
       "  </tbody>\n",
       "</table>\n",
       "</div>"
      ],
      "text/plain": [
       "                                                text             product  \\\n",
       "0  .@wesley83 I have a 3G iPhone. After 3 hrs twe...              iPhone   \n",
       "1  @jessedee Know about @fludapp ? Awesome iPad/i...  iPad or iPhone App   \n",
       "2  @swonderlin Can not wait for #iPad 2 also. The...                iPad   \n",
       "3  @sxsw I hope this year's festival isn't as cra...  iPad or iPhone App   \n",
       "4  @sxtxstate great stuff on Fri #SXSW: Marissa M...              Google   \n",
       "\n",
       "  sentiment  \n",
       "0         1  \n",
       "1         3  \n",
       "2         3  \n",
       "3         1  \n",
       "4         3  "
      ]
     },
     "execution_count": 5,
     "metadata": {},
     "output_type": "execute_result"
    }
   ],
   "source": [
    "#  encode the sentiments column (from test to numerical using label mapping)\n",
    "\n",
    "# clean whitespaces in the sentiment column\n",
    "sentiment_data[\"sentiment\"] = sentiment_data[\"sentiment\"].str.strip()\n",
    "\n",
    "# apply the label mapping\n",
    "label_mapping = {\n",
    "    \"Negative emotion\" : '1',\n",
    "    \"Positive emotion\" : '3',\n",
    "    \"No emotion toward brand or product\" : '5',\n",
    "    \"I can't tell\" : 'irrelevant'  \n",
    "}\n",
    "\n",
    "sentiment_data[\"sentiment\"] = sentiment_data[\"sentiment\"].map(label_mapping)\n",
    "\n",
    "#previewing the 1st 5 rows\n",
    "sentiment_data.head()"
   ]
  },
  {
   "cell_type": "code",
   "execution_count": 6,
   "id": "55119c02",
   "metadata": {},
   "outputs": [
    {
     "name": "stdout",
     "output_type": "stream",
     "text": [
      "<class 'pandas.core.frame.DataFrame'>\n",
      "RangeIndex: 9093 entries, 0 to 9092\n",
      "Data columns (total 2 columns):\n",
      " #   Column     Non-Null Count  Dtype \n",
      "---  ------     --------------  ----- \n",
      " 0   text       9092 non-null   object\n",
      " 1   sentiment  9093 non-null   object\n",
      "dtypes: object(2)\n",
      "memory usage: 142.2+ KB\n"
     ]
    }
   ],
   "source": [
    "# drop the \"product\" column as it has too many null values and only use two columns in the analysis. \n",
    "\n",
    "# since we are building a model to rate the sentiment if a tweet based on its content, then the feature variable (y) is the \"text\" column while the target variable (x) is the \"sentiment\" column\n",
    "\n",
    "# column to be dropped\n",
    "drop_col = [\"product\"]\n",
    "\n",
    "# dropping the column\n",
    "sentiment_data = sentiment_data.drop(drop_col, axis=1)\n",
    "\n",
    "# checking the information of the new dataset\n",
    "sentiment_data.info()"
   ]
  },
  {
   "cell_type": "markdown",
   "id": "4f2a31b7",
   "metadata": {},
   "source": [
    "The new dataframe has 2 columns and 9093 rows. Column \"text\" has a missing value. The dataframe is made up of one datatype: object."
   ]
  },
  {
   "cell_type": "code",
   "execution_count": 7,
   "id": "3156d45f",
   "metadata": {},
   "outputs": [
    {
     "data": {
      "application/vnd.microsoft.datawrangler.viewer.v0+json": {
       "columns": [
        {
         "name": "index",
         "rawType": "object",
         "type": "string"
        },
        {
         "name": "0",
         "rawType": "int64",
         "type": "integer"
        }
       ],
       "ref": "5396f37d-7cbb-48ba-925c-77393185800e",
       "rows": [
        [
         "text",
         "0"
        ],
        [
         "sentiment",
         "0"
        ]
       ],
       "shape": {
        "columns": 1,
        "rows": 2
       }
      },
      "text/plain": [
       "text         0\n",
       "sentiment    0\n",
       "dtype: int64"
      ]
     },
     "execution_count": 7,
     "metadata": {},
     "output_type": "execute_result"
    }
   ],
   "source": [
    "# dropping the null value\n",
    "sentiment_data = sentiment_data.dropna()\n",
    "\n",
    "# confirming no null values are remaining\n",
    "sentiment_data.isna().sum()"
   ]
  },
  {
   "cell_type": "code",
   "execution_count": 8,
   "id": "499482e6",
   "metadata": {},
   "outputs": [
    {
     "data": {
      "application/vnd.microsoft.datawrangler.viewer.v0+json": {
       "columns": [
        {
         "name": "index",
         "rawType": "object",
         "type": "string"
        },
        {
         "name": "text",
         "rawType": "object",
         "type": "unknown"
        },
        {
         "name": "sentiment",
         "rawType": "object",
         "type": "unknown"
        }
       ],
       "ref": "e85183f2-6043-41c8-8c43-623524b57917",
       "rows": [
        [
         "count",
         "9092",
         "9092"
        ],
        [
         "unique",
         "9065",
         "4"
        ],
        [
         "top",
         "RT @mention Marissa Mayer: Google Will Connect the Digital &amp; Physical Worlds Through Mobile - {link} #sxsw",
         "5"
        ],
        [
         "freq",
         "5",
         "5388"
        ]
       ],
       "shape": {
        "columns": 2,
        "rows": 4
       }
      },
      "text/html": [
       "<div>\n",
       "<style scoped>\n",
       "    .dataframe tbody tr th:only-of-type {\n",
       "        vertical-align: middle;\n",
       "    }\n",
       "\n",
       "    .dataframe tbody tr th {\n",
       "        vertical-align: top;\n",
       "    }\n",
       "\n",
       "    .dataframe thead th {\n",
       "        text-align: right;\n",
       "    }\n",
       "</style>\n",
       "<table border=\"1\" class=\"dataframe\">\n",
       "  <thead>\n",
       "    <tr style=\"text-align: right;\">\n",
       "      <th></th>\n",
       "      <th>text</th>\n",
       "      <th>sentiment</th>\n",
       "    </tr>\n",
       "  </thead>\n",
       "  <tbody>\n",
       "    <tr>\n",
       "      <th>count</th>\n",
       "      <td>9092</td>\n",
       "      <td>9092</td>\n",
       "    </tr>\n",
       "    <tr>\n",
       "      <th>unique</th>\n",
       "      <td>9065</td>\n",
       "      <td>4</td>\n",
       "    </tr>\n",
       "    <tr>\n",
       "      <th>top</th>\n",
       "      <td>RT @mention Marissa Mayer: Google Will Connect...</td>\n",
       "      <td>5</td>\n",
       "    </tr>\n",
       "    <tr>\n",
       "      <th>freq</th>\n",
       "      <td>5</td>\n",
       "      <td>5388</td>\n",
       "    </tr>\n",
       "  </tbody>\n",
       "</table>\n",
       "</div>"
      ],
      "text/plain": [
       "                                                     text sentiment\n",
       "count                                                9092      9092\n",
       "unique                                               9065         4\n",
       "top     RT @mention Marissa Mayer: Google Will Connect...         5\n",
       "freq                                                    5      5388"
      ]
     },
     "execution_count": 8,
     "metadata": {},
     "output_type": "execute_result"
    }
   ],
   "source": [
    "# checking the summary statistics of the data\n",
    "sentiment_data.describe()"
   ]
  },
  {
   "cell_type": "markdown",
   "id": "bbd5ad8b",
   "metadata": {},
   "source": [
    "sentiment has 4 unique categories with 5(no emotion toward brand or product i.e. neutral) taking about 59.26% (5388 out of 9092 entries)  of the data.This creates an imbalance in the dataset.  \n",
    "\n",
    "sentiment is expected to have 3 labels (1 - Negative emotion, 3 - Positive Emotion, 5 - no emotion) and not 4. There is need to drop the 4th label (irrelevant)."
   ]
  },
  {
   "cell_type": "code",
   "execution_count": 9,
   "id": "6e675228",
   "metadata": {},
   "outputs": [
    {
     "data": {
      "application/vnd.microsoft.datawrangler.viewer.v0+json": {
       "columns": [
        {
         "name": "index",
         "rawType": "int64",
         "type": "integer"
        },
        {
         "name": "text",
         "rawType": "object",
         "type": "string"
        },
        {
         "name": "sentiment",
         "rawType": "object",
         "type": "string"
        }
       ],
       "ref": "5d43611f-f26b-492a-b167-5c51780270e3",
       "rows": [
        [
         "468",
         "Before It Even Begins, Apple Wins #SXSW {link}",
         "3"
        ],
        [
         "776",
         "Google to Launch Major New Social Network Called Circles, Possibly Today {link} #sxsw",
         "5"
        ],
        [
         "2232",
         "Marissa Mayer: Google Will Connect the Digital &amp; Physical Worlds Through Mobile - {link} #sxsw",
         "5"
        ],
        [
         "2559",
         "Counting down the days to #sxsw plus strong Canadian dollar means stock up on Apple gear",
         "3"
        ],
        [
         "3950",
         "Really enjoying the changes in Gowalla 3.0 for Android! Looking forward to seeing what else they &amp; Foursquare have up their sleeves at #SXSW",
         "3"
        ],
        [
         "3962",
         "#SXSW is just starting, #CTIA is around the corner and #googleio is only a hop skip and a jump from there, good time to be an #android fan",
         "3"
        ],
        [
         "4897",
         "Oh. My. God. The #SXSW app for iPad is pure, unadulterated awesome. It's easier to browse events on iPad than on the website!!!",
         "3"
        ],
        [
         "5338",
         "RT @mention ÷¼ GO BEYOND BORDERS! ÷_ {link} ã_ #edchat #musedchat #sxsw #sxswi #classical #newTwitter",
         "5"
        ],
        [
         "5341",
         "RT @mention ÷¼ Happy Woman's Day! Make love, not fuss! ÷_ {link} ã_ #edchat #musedchat #sxsw #sxswi #classical #newTwitter",
         "5"
        ],
        [
         "5881",
         "RT @mention Google to Launch Major New Social Network Called Circles, Possibly Today {link} #sxsw",
         "5"
        ],
        [
         "5882",
         "RT @mention Google to Launch Major New Social Network Called Circles, Possibly Today {link} #SXSW",
         "5"
        ],
        [
         "5883",
         "RT @mention Google to Launch Major New Social Network Called Circles, Possibly Today {link} #sxsw",
         "5"
        ],
        [
         "5884",
         "RT @mention Google to Launch Major New Social Network Called Circles, Possibly Today {link} #SXSW",
         "5"
        ],
        [
         "5885",
         "RT @mention Google to Launch Major New Social Network Called Circles, Possibly Today {link} #sxsw",
         "5"
        ],
        [
         "6296",
         "RT @mention Marissa Mayer: Google Will Connect the Digital &amp; Physical Worlds Through Mobile - {link} #sxsw",
         "3"
        ],
        [
         "6297",
         "RT @mention Marissa Mayer: Google Will Connect the Digital &amp; Physical Worlds Through Mobile - {link} #SXSW",
         "5"
        ],
        [
         "6298",
         "RT @mention Marissa Mayer: Google Will Connect the Digital &amp; Physical Worlds Through Mobile - {link} #sxsw",
         "3"
        ],
        [
         "6299",
         "RT @mention Marissa Mayer: Google Will Connect the Digital &amp; Physical Worlds Through Mobile - {link} #SXSW",
         "5"
        ],
        [
         "6300",
         "RT @mention Marissa Mayer: Google Will Connect the Digital &amp; Physical Worlds Through Mobile - {link} #sxsw",
         "5"
        ],
        [
         "6546",
         "RT @mention RT @mention Google to Launch Major New Social Network Called Circles, Possibly Today {link} #sxsw",
         "5"
        ],
        [
         "8483",
         "I just noticed DST is coming this weekend. How many iPhone users will be an hour late at SXSW come Sunday morning? #SXSW #iPhone",
         "1"
        ],
        [
         "8747",
         "Need to buy an iPad2 while I'm in Austin at #sxsw. Not sure if I'll need to Q up at an Austin Apple store?",
         "3"
        ]
       ],
       "shape": {
        "columns": 2,
        "rows": 22
       }
      },
      "text/html": [
       "<div>\n",
       "<style scoped>\n",
       "    .dataframe tbody tr th:only-of-type {\n",
       "        vertical-align: middle;\n",
       "    }\n",
       "\n",
       "    .dataframe tbody tr th {\n",
       "        vertical-align: top;\n",
       "    }\n",
       "\n",
       "    .dataframe thead th {\n",
       "        text-align: right;\n",
       "    }\n",
       "</style>\n",
       "<table border=\"1\" class=\"dataframe\">\n",
       "  <thead>\n",
       "    <tr style=\"text-align: right;\">\n",
       "      <th></th>\n",
       "      <th>text</th>\n",
       "      <th>sentiment</th>\n",
       "    </tr>\n",
       "  </thead>\n",
       "  <tbody>\n",
       "    <tr>\n",
       "      <th>468</th>\n",
       "      <td>Before It Even Begins, Apple Wins #SXSW {link}</td>\n",
       "      <td>3</td>\n",
       "    </tr>\n",
       "    <tr>\n",
       "      <th>776</th>\n",
       "      <td>Google to Launch Major New Social Network Call...</td>\n",
       "      <td>5</td>\n",
       "    </tr>\n",
       "    <tr>\n",
       "      <th>2232</th>\n",
       "      <td>Marissa Mayer: Google Will Connect the Digital...</td>\n",
       "      <td>5</td>\n",
       "    </tr>\n",
       "    <tr>\n",
       "      <th>2559</th>\n",
       "      <td>Counting down the days to #sxsw plus strong Ca...</td>\n",
       "      <td>3</td>\n",
       "    </tr>\n",
       "    <tr>\n",
       "      <th>3950</th>\n",
       "      <td>Really enjoying the changes in Gowalla 3.0 for...</td>\n",
       "      <td>3</td>\n",
       "    </tr>\n",
       "    <tr>\n",
       "      <th>3962</th>\n",
       "      <td>#SXSW is just starting, #CTIA is around the co...</td>\n",
       "      <td>3</td>\n",
       "    </tr>\n",
       "    <tr>\n",
       "      <th>4897</th>\n",
       "      <td>Oh. My. God. The #SXSW app for iPad is pure, u...</td>\n",
       "      <td>3</td>\n",
       "    </tr>\n",
       "    <tr>\n",
       "      <th>5338</th>\n",
       "      <td>RT @mention ÷¼ GO BEYOND BORDERS! ÷_ {link} ...</td>\n",
       "      <td>5</td>\n",
       "    </tr>\n",
       "    <tr>\n",
       "      <th>5341</th>\n",
       "      <td>RT @mention ÷¼ Happy Woman's Day! Make love, ...</td>\n",
       "      <td>5</td>\n",
       "    </tr>\n",
       "    <tr>\n",
       "      <th>5881</th>\n",
       "      <td>RT @mention Google to Launch Major New Social ...</td>\n",
       "      <td>5</td>\n",
       "    </tr>\n",
       "    <tr>\n",
       "      <th>5882</th>\n",
       "      <td>RT @mention Google to Launch Major New Social ...</td>\n",
       "      <td>5</td>\n",
       "    </tr>\n",
       "    <tr>\n",
       "      <th>5883</th>\n",
       "      <td>RT @mention Google to Launch Major New Social ...</td>\n",
       "      <td>5</td>\n",
       "    </tr>\n",
       "    <tr>\n",
       "      <th>5884</th>\n",
       "      <td>RT @mention Google to Launch Major New Social ...</td>\n",
       "      <td>5</td>\n",
       "    </tr>\n",
       "    <tr>\n",
       "      <th>5885</th>\n",
       "      <td>RT @mention Google to Launch Major New Social ...</td>\n",
       "      <td>5</td>\n",
       "    </tr>\n",
       "    <tr>\n",
       "      <th>6296</th>\n",
       "      <td>RT @mention Marissa Mayer: Google Will Connect...</td>\n",
       "      <td>3</td>\n",
       "    </tr>\n",
       "    <tr>\n",
       "      <th>6297</th>\n",
       "      <td>RT @mention Marissa Mayer: Google Will Connect...</td>\n",
       "      <td>5</td>\n",
       "    </tr>\n",
       "    <tr>\n",
       "      <th>6298</th>\n",
       "      <td>RT @mention Marissa Mayer: Google Will Connect...</td>\n",
       "      <td>3</td>\n",
       "    </tr>\n",
       "    <tr>\n",
       "      <th>6299</th>\n",
       "      <td>RT @mention Marissa Mayer: Google Will Connect...</td>\n",
       "      <td>5</td>\n",
       "    </tr>\n",
       "    <tr>\n",
       "      <th>6300</th>\n",
       "      <td>RT @mention Marissa Mayer: Google Will Connect...</td>\n",
       "      <td>5</td>\n",
       "    </tr>\n",
       "    <tr>\n",
       "      <th>6546</th>\n",
       "      <td>RT @mention RT @mention Google to Launch Major...</td>\n",
       "      <td>5</td>\n",
       "    </tr>\n",
       "    <tr>\n",
       "      <th>8483</th>\n",
       "      <td>I just noticed DST is coming this weekend. How...</td>\n",
       "      <td>1</td>\n",
       "    </tr>\n",
       "    <tr>\n",
       "      <th>8747</th>\n",
       "      <td>Need to buy an iPad2 while I'm in Austin at #s...</td>\n",
       "      <td>3</td>\n",
       "    </tr>\n",
       "  </tbody>\n",
       "</table>\n",
       "</div>"
      ],
      "text/plain": [
       "                                                   text sentiment\n",
       "468      Before It Even Begins, Apple Wins #SXSW {link}         3\n",
       "776   Google to Launch Major New Social Network Call...         5\n",
       "2232  Marissa Mayer: Google Will Connect the Digital...         5\n",
       "2559  Counting down the days to #sxsw plus strong Ca...         3\n",
       "3950  Really enjoying the changes in Gowalla 3.0 for...         3\n",
       "3962  #SXSW is just starting, #CTIA is around the co...         3\n",
       "4897  Oh. My. God. The #SXSW app for iPad is pure, u...         3\n",
       "5338  RT @mention ÷¼ GO BEYOND BORDERS! ÷_ {link} ...         5\n",
       "5341  RT @mention ÷¼ Happy Woman's Day! Make love, ...         5\n",
       "5881  RT @mention Google to Launch Major New Social ...         5\n",
       "5882  RT @mention Google to Launch Major New Social ...         5\n",
       "5883  RT @mention Google to Launch Major New Social ...         5\n",
       "5884  RT @mention Google to Launch Major New Social ...         5\n",
       "5885  RT @mention Google to Launch Major New Social ...         5\n",
       "6296  RT @mention Marissa Mayer: Google Will Connect...         3\n",
       "6297  RT @mention Marissa Mayer: Google Will Connect...         5\n",
       "6298  RT @mention Marissa Mayer: Google Will Connect...         3\n",
       "6299  RT @mention Marissa Mayer: Google Will Connect...         5\n",
       "6300  RT @mention Marissa Mayer: Google Will Connect...         5\n",
       "6546  RT @mention RT @mention Google to Launch Major...         5\n",
       "8483  I just noticed DST is coming this weekend. How...         1\n",
       "8747  Need to buy an iPad2 while I'm in Austin at #s...         3"
      ]
     },
     "execution_count": 9,
     "metadata": {},
     "output_type": "execute_result"
    }
   ],
   "source": [
    "# check for duplicates\n",
    "sentiment_data[sentiment_data.duplicated()]"
   ]
  },
  {
   "cell_type": "code",
   "execution_count": 10,
   "id": "23c8137e",
   "metadata": {},
   "outputs": [],
   "source": [
    "# drop duplicates\n",
    "sentiment_data.drop_duplicates(inplace=True)"
   ]
  },
  {
   "cell_type": "markdown",
   "id": "74c6d2e5",
   "metadata": {},
   "source": [
    "## **3.2 Data Preprocessing**\n",
    "To remove stop words, punctuation marks and carry out lemmatization"
   ]
  },
  {
   "cell_type": "code",
   "execution_count": 11,
   "id": "3184d2d8",
   "metadata": {},
   "outputs": [],
   "source": [
    "# define a function to preprocess the data\n",
    "\n",
    "def get_wordnet_pos(word): #helper function for Part of Speech (POS)  aware lemmatization in nltk \n",
    "    \"\"\"Map POS tag to the first character that lemmatizer() accepts\"\"\"\n",
    "    tag = pos_tag([word])[0][1][0].upper() # gives the POS tag for the word and extracts the first letter of the tag\n",
    "    tag_dict = {\n",
    "        \"J\": wordnet.ADJ,\"N\": wordnet.NOUN,\n",
    "        \"V\": wordnet.VERB, \"R\": wordnet.ADV\n",
    "    }\n",
    "    return tag_dict.get(tag, wordnet.NOUN) # maps the letters to WordNet's lemmitazation frmat .If the POS tag isn't found, it returns (defaults) to noun\n",
    "\n",
    "def cleaned_text (text):\n",
    "    stopword_list = stopwords.words(\"english\")\n",
    "    stopword_list += list(string.punctuation)\n",
    "    lemmatizer = WordNetLemmatizer()\n",
    "    \n",
    "    # regex cleaning - to remove usernames, hyperlinks, hashtags, mentions etc\n",
    "    text = re.sub(r\"https?://\\S+|www\\.\\S+\", \"\", text) #removes links\n",
    "    text = re.sub(r\"@\\w+\", \"\", text) # removes mentions\n",
    "    text = re.sub(r\"#\", \"\", text) # remove hashtag (#), but keeps the word\n",
    "    text = re.sub(r\"\\.\\.+\",\".\", text)  # replaces multiple dots\n",
    "    \n",
    "    # tokenize the text\n",
    "    text = word_tokenize(text)\n",
    "    \n",
    "    # lowercase and remove the stopwords\n",
    "    text = [word.lower() for word in text if word.lower() not in stopword_list] \n",
    "    \n",
    "    #lemmatize with POS tagging\n",
    "    text = [lemmatizer.lemmatize(word, get_wordnet_pos(word)) for word in text]\n",
    "    \n",
    "    # join preprocessed text as a single string\n",
    "    text = ' '.join(text)\n",
    "    \n",
    "    return text"
   ]
  },
  {
   "cell_type": "code",
   "execution_count": 12,
   "id": "2985fd85",
   "metadata": {},
   "outputs": [
    {
     "data": {
      "application/vnd.microsoft.datawrangler.viewer.v0+json": {
       "columns": [
        {
         "name": "index",
         "rawType": "int64",
         "type": "integer"
        },
        {
         "name": "text",
         "rawType": "object",
         "type": "string"
        },
        {
         "name": "cleaned_text",
         "rawType": "object",
         "type": "string"
        }
       ],
       "ref": "f680e66e-5984-4551-93b4-dbb1184e7f50",
       "rows": [
        [
         "0",
         ".@wesley83 I have a 3G iPhone. After 3 hrs tweeting at #RISE_Austin, it was dead!  I need to upgrade. Plugin stations at #SXSW.",
         "3g iphone 3 hr tweet rise_austin dead need upgrade plugin station sxsw"
        ],
        [
         "1",
         "@jessedee Know about @fludapp ? Awesome iPad/iPhone app that you'll likely appreciate for its design. Also, they're giving free Ts at #SXSW",
         "know awesome ipad/iphone app 'll likely appreciate design also 're give free t sxsw"
        ],
        [
         "2",
         "@swonderlin Can not wait for #iPad 2 also. They should sale them down at #SXSW.",
         "wait ipad 2 also sale sxsw"
        ],
        [
         "3",
         "@sxsw I hope this year's festival isn't as crashy as this year's iPhone app. #sxsw",
         "hope year 's festival n't crashy year 's iphone app sxsw"
        ],
        [
         "4",
         "@sxtxstate great stuff on Fri #SXSW: Marissa Mayer (Google), Tim O'Reilly (tech books/conferences) &amp; Matt Mullenweg (Wordpress)",
         "great stuff fri sxsw marissa mayer google tim o'reilly tech books/conferences amp matt mullenweg wordpress"
        ]
       ],
       "shape": {
        "columns": 2,
        "rows": 5
       }
      },
      "text/html": [
       "<div>\n",
       "<style scoped>\n",
       "    .dataframe tbody tr th:only-of-type {\n",
       "        vertical-align: middle;\n",
       "    }\n",
       "\n",
       "    .dataframe tbody tr th {\n",
       "        vertical-align: top;\n",
       "    }\n",
       "\n",
       "    .dataframe thead th {\n",
       "        text-align: right;\n",
       "    }\n",
       "</style>\n",
       "<table border=\"1\" class=\"dataframe\">\n",
       "  <thead>\n",
       "    <tr style=\"text-align: right;\">\n",
       "      <th></th>\n",
       "      <th>text</th>\n",
       "      <th>cleaned_text</th>\n",
       "    </tr>\n",
       "  </thead>\n",
       "  <tbody>\n",
       "    <tr>\n",
       "      <th>0</th>\n",
       "      <td>.@wesley83 I have a 3G iPhone. After 3 hrs twe...</td>\n",
       "      <td>3g iphone 3 hr tweet rise_austin dead need upg...</td>\n",
       "    </tr>\n",
       "    <tr>\n",
       "      <th>1</th>\n",
       "      <td>@jessedee Know about @fludapp ? Awesome iPad/i...</td>\n",
       "      <td>know awesome ipad/iphone app 'll likely apprec...</td>\n",
       "    </tr>\n",
       "    <tr>\n",
       "      <th>2</th>\n",
       "      <td>@swonderlin Can not wait for #iPad 2 also. The...</td>\n",
       "      <td>wait ipad 2 also sale sxsw</td>\n",
       "    </tr>\n",
       "    <tr>\n",
       "      <th>3</th>\n",
       "      <td>@sxsw I hope this year's festival isn't as cra...</td>\n",
       "      <td>hope year 's festival n't crashy year 's iphon...</td>\n",
       "    </tr>\n",
       "    <tr>\n",
       "      <th>4</th>\n",
       "      <td>@sxtxstate great stuff on Fri #SXSW: Marissa M...</td>\n",
       "      <td>great stuff fri sxsw marissa mayer google tim ...</td>\n",
       "    </tr>\n",
       "  </tbody>\n",
       "</table>\n",
       "</div>"
      ],
      "text/plain": [
       "                                                text  \\\n",
       "0  .@wesley83 I have a 3G iPhone. After 3 hrs twe...   \n",
       "1  @jessedee Know about @fludapp ? Awesome iPad/i...   \n",
       "2  @swonderlin Can not wait for #iPad 2 also. The...   \n",
       "3  @sxsw I hope this year's festival isn't as cra...   \n",
       "4  @sxtxstate great stuff on Fri #SXSW: Marissa M...   \n",
       "\n",
       "                                        cleaned_text  \n",
       "0  3g iphone 3 hr tweet rise_austin dead need upg...  \n",
       "1  know awesome ipad/iphone app 'll likely apprec...  \n",
       "2                         wait ipad 2 also sale sxsw  \n",
       "3  hope year 's festival n't crashy year 's iphon...  \n",
       "4  great stuff fri sxsw marissa mayer google tim ...  "
      ]
     },
     "execution_count": 12,
     "metadata": {},
     "output_type": "execute_result"
    }
   ],
   "source": [
    "#call the function and apply to the text column\n",
    "sentiment_data[\"cleaned_text\"] = sentiment_data[\"text\"].apply(cleaned_text)\n",
    "\n",
    "sentiment_data[[\"text\", \"cleaned_text\"]].head()"
   ]
  },
  {
   "cell_type": "code",
   "execution_count": 13,
   "id": "e4e7e157",
   "metadata": {},
   "outputs": [
    {
     "data": {
      "application/vnd.microsoft.datawrangler.viewer.v0+json": {
       "columns": [
        {
         "name": "index",
         "rawType": "int64",
         "type": "integer"
        },
        {
         "name": "text",
         "rawType": "object",
         "type": "string"
        },
        {
         "name": "sentiment",
         "rawType": "object",
         "type": "string"
        },
        {
         "name": "cleaned_text",
         "rawType": "object",
         "type": "string"
        }
       ],
       "ref": "31f6b481-215f-4240-a4c6-7710cb8f29a3",
       "rows": [
        [
         "0",
         ".@wesley83 I have a 3G iPhone. After 3 hrs tweeting at #RISE_Austin, it was dead!  I need to upgrade. Plugin stations at #SXSW.",
         "1",
         "3g iphone 3 hr tweet rise_austin dead need upgrade plugin station sxsw"
        ],
        [
         "1",
         "@jessedee Know about @fludapp ? Awesome iPad/iPhone app that you'll likely appreciate for its design. Also, they're giving free Ts at #SXSW",
         "3",
         "know awesome ipad/iphone app 'll likely appreciate design also 're give free t sxsw"
        ],
        [
         "2",
         "@swonderlin Can not wait for #iPad 2 also. They should sale them down at #SXSW.",
         "3",
         "wait ipad 2 also sale sxsw"
        ],
        [
         "3",
         "@sxsw I hope this year's festival isn't as crashy as this year's iPhone app. #sxsw",
         "1",
         "hope year 's festival n't crashy year 's iphone app sxsw"
        ],
        [
         "4",
         "@sxtxstate great stuff on Fri #SXSW: Marissa Mayer (Google), Tim O'Reilly (tech books/conferences) &amp; Matt Mullenweg (Wordpress)",
         "3",
         "great stuff fri sxsw marissa mayer google tim o'reilly tech books/conferences amp matt mullenweg wordpress"
        ],
        [
         "5",
         "@teachntech00 New iPad Apps For #SpeechTherapy And Communication Are Showcased At The #SXSW Conference http://ht.ly/49n4M #iear #edchat #asd",
         "5",
         "new ipad apps speechtherapy communication showcased sxsw conference iear edchat asd"
        ],
        [
         "7",
         "#SXSW is just starting, #CTIA is around the corner and #googleio is only a hop skip and a jump from there, good time to be an #android fan",
         "3",
         "sxsw start ctia around corner googleio hop skip jump good time android fan"
        ],
        [
         "8",
         "Beautifully smart and simple idea RT @madebymany @thenextweb wrote about our #hollergram iPad app for #sxsw! http://bit.ly/ieaVOB",
         "3",
         "beautifully smart simple idea rt write hollergram ipad app sxsw"
        ],
        [
         "9",
         "Counting down the days to #sxsw plus strong Canadian dollar means stock up on Apple gear",
         "3",
         "counting day sxsw plus strong canadian dollar mean stock apple gear"
        ],
        [
         "10",
         "Excited to meet the @samsungmobileus at #sxsw so I can show them my Sprint Galaxy S still running Android 2.1.   #fail",
         "3",
         "excite meet sxsw show sprint galaxy still run android 2.1. fail"
        ],
        [
         "11",
         "Find &amp; Start Impromptu Parties at #SXSW With @HurricaneParty http://bit.ly/gVLrIn I can't wait til the Android app comes out.",
         "3",
         "find amp start impromptu party sxsw ca n't wait til android app come"
        ],
        [
         "12",
         "Foursquare ups the game, just in time for #SXSW http://j.mp/grN7pK) - Still prefer @Gowalla by far, best looking Android app to date.",
         "3",
         "foursquare ups game time sxsw still prefer far best look android app date"
        ],
        [
         "13",
         "Gotta love this #SXSW Google Calendar featuring top parties/ show cases to check out.  RT @hamsandwich via @ischafer =&gt;http://bit.ly/aXZwxB",
         "3",
         "get ta love sxsw google calendar feature top parties/ show case check rt via gt"
        ],
        [
         "14",
         "Great #sxsw ipad app from @madebymany: http://tinyurl.com/4nqv92l",
         "3",
         "great sxsw ipad app"
        ],
        [
         "15",
         "haha, awesomely rad iPad app by @madebymany http://bit.ly/hTdFim #hollergram #sxsw",
         "3",
         "haha awesomely rad ipad app hollergram sxsw"
        ],
        [
         "16",
         "Holler Gram for iPad on the iTunes App Store -  http://t.co/kfN3f5Q (via @marc_is_ken) #sxsw",
         "5",
         "holler gram ipad itunes app store via sxsw"
        ],
        [
         "17",
         "I just noticed DST is coming this weekend. How many iPhone users will be an hour late at SXSW come Sunday morning? #SXSW #iPhone",
         "1",
         "notice dst come weekend many iphone user hour late sxsw come sunday morning sxsw iphone"
        ],
        [
         "18",
         "Just added my #SXSW flights to @planely. Matching people on planes/airports. Also downloaded the @KLM iPhone app, nicely done.",
         "3",
         "add sxsw flight match people planes/airports also download iphone app nicely do"
        ],
        [
         "19",
         "Must have #SXSW app! RT @malbonster: Lovely review from Forbes for our SXSW iPad app Holler Gram - http://t.co/g4GZypV",
         "3",
         "must sxsw app rt lovely review forbes sxsw ipad app holler gram"
        ],
        [
         "20",
         "Need to buy an iPad2 while I'm in Austin at #sxsw. Not sure if I'll need to Q up at an Austin Apple store?",
         "3",
         "need buy ipad2 'm austin sxsw sure 'll need q austin apple store"
        ],
        [
         "21",
         "Oh. My. God. The #SXSW app for iPad is pure, unadulterated awesome. It's easier to browse events on iPad than on the website!!!",
         "3",
         "oh god sxsw app ipad pure unadulterated awesome 's easy browse event ipad website"
        ],
        [
         "22",
         "Okay, this is really it: yay new @Foursquare for #Android app!!!!11 kthxbai. #sxsw",
         "3",
         "okay really yay new android app 11 kthxbai sxsw"
        ],
        [
         "23",
         "Photo: Just installed the #SXSW iPhone app, which is really nice! http://tumblr.com/x6t1pi6av7",
         "3",
         "photo instal sxsw iphone app really nice"
        ],
        [
         "24",
         "Really enjoying the changes in Gowalla 3.0 for Android! Looking forward to seeing what else they &amp; Foursquare have up their sleeves at #SXSW",
         "3",
         "really enjoy change gowalla 3.0 android look forward see else amp foursquare sleeve sxsw"
        ],
        [
         "25",
         "RT @LaurieShook: I'm looking forward to the #SMCDallas pre #SXSW party Wed., and hoping I'll win an #iPad resulting from my shameless promotion.  #ChevySMC",
         "3",
         "rt 'm look forward smcdallas pre sxsw party wed. hop 'll win ipad result shameless promotion chevysmc"
        ],
        [
         "26",
         "RT haha, awesomely rad iPad app by @madebymany http://bit.ly/hTdFim #hollergram #sxsw (via @michaelpiliero)",
         "3",
         "rt haha awesomely rad ipad app hollergram sxsw via"
        ],
        [
         "27",
         "someone started an #austin @PartnerHub group in google groups, pre-#sxsw. great idea",
         "3",
         "someone start austin group google group pre-sxsw great idea"
        ],
        [
         "28",
         "The new #4sq3 looks like it is going to rock. Update for iPhone and Android should push tonight http://bit.ly/etsbZk #SXSW #KeepAustinWeird",
         "3",
         "new 4sq3 look like go rock update iphone android push tonight sxsw keepaustinweird"
        ],
        [
         "29",
         "They were right, the @gowalla 3 app on #android is sweeeeet! Nice job by the team there. #sxsw",
         "3",
         "right 3 app android sweeeeet nice job team sxsw"
        ],
        [
         "30",
         "Very smart from @madebymany #hollergram iPad app for #sxsw! http://t.co/A3xvWc6 (may leave my vuvuzela at home now)",
         "3",
         "smart hollergram ipad app sxsw may leave vuvuzela home"
        ],
        [
         "31",
         "You must have this app for your iPad if you are going to #SXSW http://itunes.apple.com/us/app/holler-gram/id420666439?mt=8 #hollergram",
         "3",
         "must app ipad go sxsw hollergram"
        ],
        [
         "32",
         "Attn: All  #SXSW frineds, @mention Register for #GDGTLive  and see Cobra iRadar for Android. {link}",
         "5",
         "attn sxsw frineds register gdgtlive see cobra iradar android link"
        ],
        [
         "33",
         "Anyone at  #sxsw want to sell their old iPad?",
         "5",
         "anyone sxsw want sell old ipad"
        ],
        [
         "34",
         "Anyone at  #SXSW who bought the new iPad want to sell their older iPad to me?",
         "5",
         "anyone sxsw bought new ipad want sell old ipad"
        ],
        [
         "35",
         "At #sxsw.  Oooh. RT @mention Google to Launch Major New Social Network Called Circles, Possibly Today {link}",
         "5",
         "sxsw oooh rt google launch major new social network call circle possibly today link"
        ],
        [
         "36",
         "The best!  RT @mention Ha! First in line for #ipad2 at #sxsw &quot;pop-up&quot; Apple store was an event planner #eventprofs #pcma #engage365",
         "3",
         "best rt ha first line ipad2 sxsw quot pop-up quot apple store event planner eventprofs pcma engage365"
        ],
        [
         "37",
         "SPIN Play - a new concept in music discovery for your iPad from @mention &amp; spin.com {link} #iTunes #sxsw @mention",
         "5",
         "spin play new concept music discovery ipad amp spin.com link itunes sxsw"
        ],
        [
         "38",
         "@mention  - False Alarm: Google Circles Not Coming NowÛÒand Probably Not Ever? - {link} #Google #Circles #Social #SXSW",
         "1",
         "false alarm google circle come nowûòand probably ever link google circle social sxsw"
        ],
        [
         "39",
         "VatorNews - Google And Apple Force Print Media to Evolve? {link} #sxsw",
         "5",
         "vatornews google apple force print medium evolve link sxsw"
        ],
        [
         "40",
         "@mention  - Great weather to greet you for #sxsw! Still need a sweater at night..Apple putting up &quot;flash store&quot; downtown to sell iPad2",
         "3",
         "great weather greet sxsw still need sweater night.apple put quot flash store quot downtown sell ipad2"
        ],
        [
         "41",
         "HootSuite - HootSuite Mobile for #SXSW ~ Updates for iPhone, BlackBerry &amp; Android: Whether youÛªre getting friend... {link}",
         "5",
         "hootsuite hootsuite mobile sxsw update iphone blackberry amp android whether youûªre get friend link"
        ],
        [
         "42",
         "Hey #SXSW - How long do you think it takes us to make an iPhone case? answer @mention using #zazzlesxsw and weÛªll make you one!",
         "5",
         "hey sxsw long think take u make iphone case answer use zazzlesxsw weûªll make one"
        ],
        [
         "43",
         "Mashable! - The iPad 2 Takes Over SXSW [VIDEO] #ipad #sxsw #gadgets {link}",
         "5",
         "mashable ipad 2 take sxsw video ipad sxsw gadget link"
        ],
        [
         "44",
         "For I-Pad ?RT @mention New #UberSocial for #iPhone now in the App Store includes UberGuide to #SXSW sponsored by ... {link}",
         "5",
         "i-pad rt new ubersocial iphone app store include uberguide sxsw sponsor link"
        ],
        [
         "45",
         "#IPad2 's Û÷#SmartCoverÛª Opens to Instant Access - I should have waited to get one! - {link} #apple #SXSW",
         "3",
         "ipad2 's û÷smartcoverûª open instant access wait get one link apple sxsw"
        ],
        [
         "46",
         "Hand-Held Û÷HoboÛª: Drafthouse launches Û÷Hobo With a ShotgunÛª iPhone app #SXSW {link}",
         "3",
         "hand-held û÷hoboûª drafthouse launch û÷hobo shotgunûª iphone app sxsw link"
        ],
        [
         "47",
         "HOORAY RT ÛÏ@mention Apple Is Opening A Pop-Up Store In Austin For #SXSW | @mention {link}",
         "3",
         "hooray rt ûï apple opening pop-up store austin sxsw link"
        ],
        [
         "48",
         "Orly....? ÛÏ@mention Google set to launch new social network #Circles today at #sxswÛ",
         "5",
         "orly. ûï google set launch new social network circle today sxswû"
        ],
        [
         "49",
         "wooooo!!! ÛÏ@mention Apple store downtown Austin open til Midnight. #sxswÛ",
         "3",
         "wooooo ûï apple store downtown austin open til midnight sxswû"
        ],
        [
         "50",
         "Khoi Vinh (@mention says Conde Nast's headlong rush into iPad publishing was a &quot;fundamental misunderstanding&quot; of the platform #sxsw",
         "5",
         "khoi vinh say conde nast 's headlong rush ipad publishing quot fundamental misunderstand quot platform sxsw"
        ]
       ],
       "shape": {
        "columns": 3,
        "rows": 9070
       }
      },
      "text/html": [
       "<div>\n",
       "<style scoped>\n",
       "    .dataframe tbody tr th:only-of-type {\n",
       "        vertical-align: middle;\n",
       "    }\n",
       "\n",
       "    .dataframe tbody tr th {\n",
       "        vertical-align: top;\n",
       "    }\n",
       "\n",
       "    .dataframe thead th {\n",
       "        text-align: right;\n",
       "    }\n",
       "</style>\n",
       "<table border=\"1\" class=\"dataframe\">\n",
       "  <thead>\n",
       "    <tr style=\"text-align: right;\">\n",
       "      <th></th>\n",
       "      <th>text</th>\n",
       "      <th>sentiment</th>\n",
       "      <th>cleaned_text</th>\n",
       "    </tr>\n",
       "  </thead>\n",
       "  <tbody>\n",
       "    <tr>\n",
       "      <th>0</th>\n",
       "      <td>.@wesley83 I have a 3G iPhone. After 3 hrs twe...</td>\n",
       "      <td>1</td>\n",
       "      <td>3g iphone 3 hr tweet rise_austin dead need upg...</td>\n",
       "    </tr>\n",
       "    <tr>\n",
       "      <th>1</th>\n",
       "      <td>@jessedee Know about @fludapp ? Awesome iPad/i...</td>\n",
       "      <td>3</td>\n",
       "      <td>know awesome ipad/iphone app 'll likely apprec...</td>\n",
       "    </tr>\n",
       "    <tr>\n",
       "      <th>2</th>\n",
       "      <td>@swonderlin Can not wait for #iPad 2 also. The...</td>\n",
       "      <td>3</td>\n",
       "      <td>wait ipad 2 also sale sxsw</td>\n",
       "    </tr>\n",
       "    <tr>\n",
       "      <th>3</th>\n",
       "      <td>@sxsw I hope this year's festival isn't as cra...</td>\n",
       "      <td>1</td>\n",
       "      <td>hope year 's festival n't crashy year 's iphon...</td>\n",
       "    </tr>\n",
       "    <tr>\n",
       "      <th>4</th>\n",
       "      <td>@sxtxstate great stuff on Fri #SXSW: Marissa M...</td>\n",
       "      <td>3</td>\n",
       "      <td>great stuff fri sxsw marissa mayer google tim ...</td>\n",
       "    </tr>\n",
       "    <tr>\n",
       "      <th>...</th>\n",
       "      <td>...</td>\n",
       "      <td>...</td>\n",
       "      <td>...</td>\n",
       "    </tr>\n",
       "    <tr>\n",
       "      <th>9088</th>\n",
       "      <td>Ipad everywhere. #SXSW {link}</td>\n",
       "      <td>3</td>\n",
       "      <td>ipad everywhere sxsw link</td>\n",
       "    </tr>\n",
       "    <tr>\n",
       "      <th>9089</th>\n",
       "      <td>Wave, buzz... RT @mention We interrupt your re...</td>\n",
       "      <td>5</td>\n",
       "      <td>wave buzz rt interrupt regularly schedule sxsw...</td>\n",
       "    </tr>\n",
       "    <tr>\n",
       "      <th>9090</th>\n",
       "      <td>Google's Zeiger, a physician never reported po...</td>\n",
       "      <td>5</td>\n",
       "      <td>google 's zeiger physician never report potent...</td>\n",
       "    </tr>\n",
       "    <tr>\n",
       "      <th>9091</th>\n",
       "      <td>Some Verizon iPhone customers complained their...</td>\n",
       "      <td>5</td>\n",
       "      <td>verizon iphone customer complain time fell bac...</td>\n",
       "    </tr>\n",
       "    <tr>\n",
       "      <th>9092</th>\n",
       "      <td>Ï¡Ïàü_ÊÎÒ£Áââ_£â_ÛâRT @...</td>\n",
       "      <td>5</td>\n",
       "      <td>ï¡ïàü_êîò£áââ_£â_ûârt g...</td>\n",
       "    </tr>\n",
       "  </tbody>\n",
       "</table>\n",
       "<p>9070 rows × 3 columns</p>\n",
       "</div>"
      ],
      "text/plain": [
       "                                                   text sentiment  \\\n",
       "0     .@wesley83 I have a 3G iPhone. After 3 hrs twe...         1   \n",
       "1     @jessedee Know about @fludapp ? Awesome iPad/i...         3   \n",
       "2     @swonderlin Can not wait for #iPad 2 also. The...         3   \n",
       "3     @sxsw I hope this year's festival isn't as cra...         1   \n",
       "4     @sxtxstate great stuff on Fri #SXSW: Marissa M...         3   \n",
       "...                                                 ...       ...   \n",
       "9088                      Ipad everywhere. #SXSW {link}         3   \n",
       "9089  Wave, buzz... RT @mention We interrupt your re...         5   \n",
       "9090  Google's Zeiger, a physician never reported po...         5   \n",
       "9091  Some Verizon iPhone customers complained their...         5   \n",
       "9092  Ï¡Ïàü_ÊÎÒ£Áââ_£â_ÛâRT @...         5   \n",
       "\n",
       "                                           cleaned_text  \n",
       "0     3g iphone 3 hr tweet rise_austin dead need upg...  \n",
       "1     know awesome ipad/iphone app 'll likely apprec...  \n",
       "2                            wait ipad 2 also sale sxsw  \n",
       "3     hope year 's festival n't crashy year 's iphon...  \n",
       "4     great stuff fri sxsw marissa mayer google tim ...  \n",
       "...                                                 ...  \n",
       "9088                          ipad everywhere sxsw link  \n",
       "9089  wave buzz rt interrupt regularly schedule sxsw...  \n",
       "9090  google 's zeiger physician never report potent...  \n",
       "9091  verizon iphone customer complain time fell bac...  \n",
       "9092  ï¡ïàü_êîò£áââ_£â_ûârt g...  \n",
       "\n",
       "[9070 rows x 3 columns]"
      ]
     },
     "execution_count": 13,
     "metadata": {},
     "output_type": "execute_result"
    }
   ],
   "source": [
    "sentiment_data"
   ]
  },
  {
   "cell_type": "code",
   "execution_count": 16,
   "id": "96391e56",
   "metadata": {},
   "outputs": [],
   "source": [
    "save_path = \"../data/cleaned_sentiment_data.csv\"\n",
    "sentiment_data.to_csv(save_path, index=False, encoding=\"ISO-8859-1\")"
   ]
  }
 ],
 "metadata": {
  "kernelspec": {
   "display_name": "myenv",
   "language": "python",
   "name": "python3"
  },
  "language_info": {
   "codemirror_mode": {
    "name": "ipython",
    "version": 3
   },
   "file_extension": ".py",
   "mimetype": "text/x-python",
   "name": "python",
   "nbconvert_exporter": "python",
   "pygments_lexer": "ipython3",
   "version": "3.12.11"
  }
 },
 "nbformat": 4,
 "nbformat_minor": 5
}
